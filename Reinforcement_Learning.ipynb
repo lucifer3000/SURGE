{
  "nbformat": 4,
  "nbformat_minor": 0,
  "metadata": {
    "colab": {
      "provenance": []
    },
    "kernelspec": {
      "name": "python3",
      "display_name": "Python 3"
    },
    "language_info": {
      "name": "python"
    }
  },
  "cells": [
    {
      "cell_type": "code",
      "metadata": {
        "id": "TQ6qRTNW5pQv",
        "colab": {
          "base_uri": "https://localhost:8080/"
        },
        "outputId": "cb5bc509-42e0-4b10-b3a6-69de7d57d3f7"
      },
      "source": [
        "%tensorflow_version 1.x"
      ],
      "execution_count": null,
      "outputs": [
        {
          "output_type": "stream",
          "name": "stdout",
          "text": [
            "TensorFlow 1.x selected.\n"
          ]
        }
      ]
    },
    {
      "cell_type": "code",
      "metadata": {
        "colab": {
          "base_uri": "https://localhost:8080/"
        },
        "id": "ZbHZaTz658JX",
        "outputId": "704087ab-56c7-43ec-c0aa-bfa6dad52421"
      },
      "source": [
        "import tensorflow as tf\n",
        "print(tf.__version__)"
      ],
      "execution_count": null,
      "outputs": [
        {
          "output_type": "stream",
          "name": "stdout",
          "text": [
            "1.15.2\n"
          ]
        }
      ]
    },
    {
      "cell_type": "markdown",
      "metadata": {
        "id": "wD60Z7AP7Iku"
      },
      "source": [
        "#Policy Gradient"
      ]
    },
    {
      "cell_type": "code",
      "metadata": {
        "id": "qqVSpvvG6jt_"
      },
      "source": [
        "# https://deeplearningcourses.com/c/deep-reinforcement-learning-in-python\n",
        "# https://www.udemy.com/deep-reinforcement-learning-in-python\n",
        "from __future__ import print_function, division\n",
        "from builtins import range\n",
        "# Note: you may need to update your version of future\n",
        "# sudo pip install -U future\n",
        "# Inspired by https://github.com/dennybritz/reinforcement-learning\n",
        "\n",
        "import gym\n",
        "import os\n",
        "import sys\n",
        "import numpy as np\n",
        "import tensorflow as tf\n",
        "import matplotlib.pyplot as plt\n",
        "from gym import wrappers\n",
        "from datetime import datetime"
      ],
      "execution_count": null,
      "outputs": []
    },
    {
      "cell_type": "code",
      "metadata": {
        "id": "98__UxTR6fj9"
      },
      "source": [
        "def plot_running_avg(totalrewards):\n",
        "  N = len(totalrewards)\n",
        "  running_avg = np.empty(N)\n",
        "  for t in range(N):\n",
        "    running_avg[t] = totalrewards[max(0, t-100):(t+1)].mean()\n",
        "  plt.plot(running_avg)\n",
        "  plt.title(\"Running Average\")\n",
        "  plt.show()\n"
      ],
      "execution_count": null,
      "outputs": []
    },
    {
      "cell_type": "markdown",
      "metadata": {
        "id": "TafgarwYcXyj"
      },
      "source": [
        "##Policy Gradient"
      ]
    },
    {
      "cell_type": "code",
      "metadata": {
        "id": "SU_f6CrPOm9W"
      },
      "source": [
        "\n",
        "# so you can test different architectures\n",
        "class HiddenLayer:\n",
        "  def __init__(self, M1, M2, f=tf.nn.tanh, use_bias=True):\n",
        "    self.W = tf.Variable(tf.random_normal(shape=(M1, M2)))\n",
        "    self.use_bias = use_bias\n",
        "    if use_bias:\n",
        "      self.b = tf.Variable(np.zeros(M2).astype(np.float32))\n",
        "    self.f = f\n",
        "\n",
        "  def forward(self, X):\n",
        "    if self.use_bias:\n",
        "      a = tf.matmul(X, self.W) + self.b\n",
        "    else:\n",
        "      a = tf.matmul(X, self.W)\n",
        "    return self.f(a) #applies tanh activation functon on Z\n"
      ],
      "execution_count": null,
      "outputs": []
    },
    {
      "cell_type": "code",
      "metadata": {
        "id": "JR_Jx8zILO5k"
      },
      "source": [
        "x = tf.placeholder(tf.float32,[None,784])\n",
        "W = tf.Variable(tf.zeros([784,10]))\n",
        "b = tf.Variable(tf.zeros([10]))\n",
        "y = tf.nn.softmax(tf.matmul(x,W)+b)\n",
        "y_ = tf.placeholder(tf.float32,[None,10])\n",
        "cross_entropy = -tf.reduce_sum(y_*tf.log(y))\n",
        "optimizer = tf.train.GradientDescentOptimizer(0.01)\n",
        "\n",
        "#gradstep = opt.compute_gradients(cross_entropy)\n",
        "gradients2, variables2 = zip(*optimizer.compute_gradients(cross_entropy))\n",
        "\n",
        "sess2 = tf.Session()\n",
        "sess2.run(tf.initialize_all_variables())\n",
        "for i in range(2):\n",
        "  gradients2, variables2 = zip(*optimizer.compute_gradients(cross_entropy))\n",
        "  gradients2 = sess2.run([tf.clip_by_norm(gradient, 5.0)\n",
        "      for gradient in gradients2 if gradient is not None], feed_dict={x: np.random.randn(10,784), y_:np.random.randn(10,10)})\n",
        "\n",
        "  optimize = optimizer.apply_gradients(zip(gradients2, variables2))\n",
        "\n",
        "  sess2.run(optimize)\n",
        "  print(gradients2)\n"
      ],
      "execution_count": null,
      "outputs": []
    },
    {
      "cell_type": "code",
      "metadata": {
        "id": "-dmE0aM_Ot5A"
      },
      "source": [
        "# approximates pi(a | s)\n",
        "#linear model for policy, and NN for value function\n",
        "class PolicyModel:\n",
        "  def __init__(self, D, K, hidden_layer_sizes):\n",
        "    # create the graph\n",
        "    # K = number of actions\n",
        "    self.layers = []\n",
        "    M1 = D\n",
        "    for M2 in hidden_layer_sizes:\n",
        "      layer = HiddenLayer(M1, M2)\n",
        "      self.layers.append(layer)\n",
        "      M1 = M2\n",
        "\n",
        "    self.temp = 1 #Temporary variable\n",
        "    # final layer\n",
        "    # layer = HiddenLayer(M1, K, lambda x: x, use_bias=False)\n",
        "    layer = HiddenLayer(M1, K, tf.nn.softmax, use_bias=False)\n",
        "    self.layers.append(layer)\n",
        "\n",
        "    # inputs and targets\n",
        "    self.X = tf.placeholder(tf.float32, shape=(None, D), name='X') #shape (n,d)\n",
        "    self.actions = tf.placeholder(tf.int32, shape=(None,), name='actions') #shape(K,) number of actions\n",
        "    self.advantages = tf.placeholder(tf.float32, shape=(None,), name='advantages') #shape(n,)\n",
        "\n",
        "    # calculate output and cost\n",
        "    Z = self.X\n",
        "    for layer in self.layers:\n",
        "      Z = layer.forward(Z)\n",
        "    p_a_given_s = Z #(None,D)\n",
        "\n",
        "    # action_scores = Z\n",
        "    # p_a_given_s = tf.nn.softmax(action_scores)\n",
        "    # self.action_scores = action_scores\n",
        "    #print(\"Z\",Z.shape)\n",
        "\n",
        "    self.predict_op = p_a_given_s\n",
        "\n",
        "    # self.one_hot_actions = tf.one_hot(self.actions, K)\n",
        "\n",
        "    selected_probs = tf.log(\n",
        "      tf.reduce_sum(\n",
        "        p_a_given_s * tf.one_hot(self.actions, K),\n",
        "        reduction_indices=[1]  #columnwise sum of the probabilities\n",
        "      )\n",
        "    )\n",
        "\n",
        "    #print(\"Selected probs\",selected_probs.shape)\n",
        "    #print(\"advantages\",self.advantages.shape)\n",
        "    #print(\"actions\",self.actions.shape)\n",
        "    # self.selected_probs = selected_probs\n",
        "    #self.cost = -tf.reduce_sum(self.advantages * selected_probs) \n",
        "    cost = -tf.reduce_sum(self.advantages * selected_probs) \n",
        "    # self.cost = cost\n",
        "    self.train_op = tf.train.AdamOptimizer(1e-1).minimize(cost)\n",
        "    #self.train_op = tf.train.AdagradOptimizer(1e-1).minimize(cost)\n",
        "    # self.train_op = tf.train.MomentumOptimizer(1e-4, momentum=0.9).minimize(cost)\n",
        "    #self.train_op = tf.train.GradientDescentOptimizer(1e-4).minimize(cost)\n",
        "\n",
        "    #self.optimizer = tf.train.AdagradOptimizer(1e-1)\n",
        "    #self.gradients,self.variables = zip(*self.optimizer.compute_gradients(self.cost))   \n",
        "    #self.apply = self.optimizer.apply_gradients(zip(self.gradients,self.variables))\n",
        "\n",
        "    \n",
        "\n",
        "  def set_session(self, session):\n",
        "    self.session = session\n",
        "\n",
        "  def partial_fit(self, X, actions, advantages): #in MC X is something like ((pos,vel,theta,omega),()....) the samples same for actions and advantages except that they are scalar\n",
        "    #print(\"before X\",len(X))\n",
        "    X = np.atleast_2d(X)\n",
        "    #print(\"after X\",X.shape)\n",
        "    #print(\"before actions\",len(actions))\n",
        "\n",
        "    actions = np.atleast_1d(actions)\n",
        "    #print(\"after actions\",actions.shape)\n",
        "    #print(\"before advantages\",len(advantages))\n",
        "    \n",
        "    advantages = np.atleast_1d(advantages)\n",
        "    #print(\"after advantages\",advantages.shape)\n",
        "\n",
        "    self.session.run(\n",
        "      self.train_op,\n",
        "      feed_dict={\n",
        "        self.X: X,\n",
        "        self.actions: actions,\n",
        "        self.advantages: advantages,\n",
        "      }\n",
        "    )\n",
        "    # gradients,variables = zip(*self.optimizer.compute_gradients(self.cost)) \n",
        "    # gradients = self.session.run([grad for grad in gradients if grad is not None], feed_dict={self.X: X, self.actions: actions, self.advantages: advantages,})\n",
        "    # apply = self.optimizer.apply_gradients(zip(gradients,variables))\n",
        "    # # var_to_grad = {}\n",
        "    # # for grad_val, (_, var) in zip(grad_vals, gradstep): \n",
        "    # #   var_to_grad[var.name] = grad_val\n",
        "    # #   if(self.temp is 1):\n",
        "    # #     print(grad_val.shape)\n",
        "    # # self.temp = 2   \n",
        "    # # print(\"Gradients\",var_to_grad) \n",
        "    # # if self.temp is 1:\n",
        "    # #   print(type(grad_vals))\n",
        "    # #   print(len(grad_vals))\n",
        "    # #   print(type(grad_vals[0]))\n",
        "    # # self.temp = 2  \n",
        "    # if(self.temp is 1):\n",
        "    #   self.session.run(tf.initialize_all_variables())\n",
        "    #   self.temp = 2\n",
        "    # self.session.run(apply)\n",
        "    #print(gradients)\n",
        "\n",
        "  def predict(self, X):\n",
        "    X = np.atleast_2d(X)\n",
        "    res =  self.session.run(self.predict_op, feed_dict={self.X: X})\n",
        "   # print(res.shape) returns a (1,2) shape vector containing the probabilities of both the actions\n",
        "    return res\n",
        "\n",
        "  def sample_action(self, X):\n",
        "    p = self.predict(X)[0] #the first row or a 1D vector containing 2 actions\n",
        "    return np.random.choice(len(p), p=p) #return a single action 0 index corresponding to left/right action, with the respective probabilities given  \n"
      ],
      "execution_count": null,
      "outputs": []
    },
    {
      "cell_type": "code",
      "metadata": {
        "id": "f2dNzBIUOylq"
      },
      "source": [
        "# approximates V(s)\n",
        "class ValueModel:\n",
        "  def __init__(self, D, hidden_layer_sizes):\n",
        "    # create the graph\n",
        "    self.layers = []\n",
        "    M1 = D\n",
        "    for M2 in hidden_layer_sizes:\n",
        "      layer = HiddenLayer(M1, M2)\n",
        "      self.layers.append(layer)\n",
        "      M1 = M2\n",
        "    self.temp = 1\n",
        "    # final layer\n",
        "    layer = HiddenLayer(M1, 1, lambda x: x)\n",
        "    self.layers.append(layer)\n",
        "\n",
        "    # inputs and targets\n",
        "    self.X = tf.placeholder(tf.float32, shape=(None, D), name='X')\n",
        "    self.Y = tf.placeholder(tf.float32, shape=(None,), name='Y')\n",
        "\n",
        "    # calculate output and cost\n",
        "    Z = self.X\n",
        "    for layer in self.layers:\n",
        "      Z = layer.forward(Z)\n",
        "    Y_hat = tf.reshape(Z, [-1]) # the output\n",
        "    self.predict_op = Y_hat\n",
        "\n",
        "    cost = tf.reduce_sum(tf.square(self.Y - Y_hat))\n",
        "    #self.train_op = tf.train.AdamOptimizer(1e-2).minimize(cost)\n",
        "    # self.train_op = tf.train.MomentumOptimizer(1e-2, momentum=0.9).minimize(cost)\n",
        "    #self.optimizer2 = tf.train.GradientDescentOptimizer(1e-4)\n",
        "    self.train_op = tf.train.GradientDescentOptimizer(1e-4).minimize(cost)\n",
        "\n",
        "  def set_session(self, session):\n",
        "    self.session = session\n",
        "\n",
        "  def partial_fit(self, X, Y):\n",
        "    X = np.atleast_2d(X)\n",
        "    Y = np.atleast_1d(Y)\n",
        "    self.session.run(self.train_op, feed_dict={self.X: X, self.Y: Y})\n",
        "\n",
        "    # gradients2,variables2 = zip(*self.optimizer2.compute_gradients(self.cost2)) \n",
        "    # gradients2 = self.session2.run([grad for grad in gradients2 if grad is not None], feed_dict={self.X: X, self.Y: Y})\n",
        "    # apply2 = self.optimizer2.apply_gradients(zip(gradients2,variables2))\n",
        "\n",
        "    # if(self.temp is 1):\n",
        "    #   self.session2.run(tf.initialize_all_variables())\n",
        "    #   self.temp = 2\n",
        "    # self.session2.run(apply2)\n",
        "    # self.session2.close()\n",
        "\n",
        "  def predict(self, X):\n",
        "    X = np.atleast_2d(X)\n",
        "    return self.session.run(self.predict_op, feed_dict={self.X: X})\n"
      ],
      "execution_count": null,
      "outputs": []
    },
    {
      "cell_type": "code",
      "metadata": {
        "id": "7GSepE5BO7Yj"
      },
      "source": [
        "def play_one_td(env, pmodel, vmodel, gamma):\n",
        "  observation = env.reset()\n",
        "  done = False\n",
        "  totalreward = 0\n",
        "  iters = 0\n",
        "\n",
        "  while not done and iters < 2000:\n",
        "    # if we reach 2000, just quit, don't want this going forever\n",
        "    # the 200 limit seems a bit early\n",
        "    action = pmodel.sample_action(observation)\n",
        "    prev_observation = observation\n",
        "    observation, reward, done, info = env.step(action)\n",
        "\n",
        "    # if done:\n",
        "    #   reward = -200\n",
        "\n",
        "    # update the models\n",
        "    V_next = vmodel.predict(observation)[0]\n",
        "    G = reward + gamma*V_next\n",
        "    advantage = G - vmodel.predict(prev_observation)\n",
        "    pmodel.partial_fit(prev_observation, action, advantage)\n",
        "    vmodel.partial_fit(prev_observation, G)\n",
        "\n",
        "    if reward == 1: # if we changed the reward to -200\n",
        "      totalreward += reward\n",
        "    iters += 1\n",
        "\n",
        "  return totalreward"
      ],
      "execution_count": null,
      "outputs": []
    },
    {
      "cell_type": "code",
      "metadata": {
        "id": "7sGTF7_yO4ul"
      },
      "source": [
        "def play_one_mc(env, pmodel, vmodel, gamma):\n",
        "  observation = env.reset()\n",
        "  done = False\n",
        "  totalreward = 0\n",
        "  iters = 0\n",
        "\n",
        "  states = []\n",
        "  actions = []\n",
        "  rewards = []\n",
        "\n",
        "  reward = 0\n",
        "  while not done and iters < 2000:\n",
        "    # if we reach 2000, just quit, don't want this going forever\n",
        "    # the 200 limit seems a bit early\n",
        "    action = pmodel.sample_action(observation)\n",
        "\n",
        "    states.append(observation)\n",
        "    actions.append(action)\n",
        "    rewards.append(reward)\n",
        "\n",
        "    prev_observation = observation\n",
        "    observation, reward, done, info = env.step(action)\n",
        "\n",
        "    if done:\n",
        "      reward = -200\n",
        "\n",
        "    if reward == 1: # if we changed the reward to -200\n",
        "      totalreward += reward\n",
        "    iters += 1\n",
        "\n",
        "  # save the final (s,a,r) tuple\n",
        "  action = pmodel.sample_action(observation)\n",
        "  states.append(observation)\n",
        "  actions.append(action)\n",
        "  rewards.append(reward)\n",
        "\n",
        "  returns = []\n",
        "  advantages = []\n",
        "  G = 0\n",
        "  for s, r in zip(reversed(states), reversed(rewards)):\n",
        "    returns.append(G)\n",
        "    advantages.append(G - vmodel.predict(s)[0])\n",
        "    G = r + gamma*G\n",
        "  returns.reverse()\n",
        "  advantages.reverse()\n",
        "\n",
        "  # update the models\n",
        "  pmodel.partial_fit(states, actions, advantages)\n",
        "  vmodel.partial_fit(states, returns)\n",
        "\n",
        "  return totalreward"
      ],
      "execution_count": null,
      "outputs": []
    },
    {
      "cell_type": "code",
      "metadata": {
        "colab": {
          "base_uri": "https://localhost:8080/"
        },
        "id": "ZMMwcS2mQnLa",
        "outputId": "0f4113be-7dcc-45fb-abac-594f9dd04a55"
      },
      "source": [
        "env = gym.make('CartPole-v0')\n",
        "print(\"Testing \",env.observation_space.shape)\n",
        "D = env.observation_space.shape[0]\n",
        "print(D)"
      ],
      "execution_count": null,
      "outputs": [
        {
          "output_type": "stream",
          "name": "stdout",
          "text": [
            "Testing  (4,)\n",
            "4\n"
          ]
        }
      ]
    },
    {
      "cell_type": "code",
      "metadata": {
        "colab": {
          "base_uri": "https://localhost:8080/",
          "height": 781
        },
        "id": "lZ0ceFMr6FIJ",
        "outputId": "7c6d70b3-5bbd-47c7-cf38-ef0e10f30552"
      },
      "source": [
        "def main():\n",
        "  env = gym.make('CartPole-v0')\n",
        "  print(\"Testing \",env.observation_space.shape)\n",
        "  D = env.observation_space.shape[0]\n",
        "  K = env.action_space.n\n",
        "  pmodel = PolicyModel(D, K, [])\n",
        "  vmodel = ValueModel(D, [10])\n",
        "  init = tf.global_variables_initializer()\n",
        "  session = tf.InteractiveSession()\n",
        "  session.run(init)\n",
        "  #session2 = tf.InteractiveSession()\n",
        "  #session2.run(init)\n",
        "  pmodel.set_session(session)\n",
        "  vmodel.set_session(session)\n",
        "  gamma = 0.99\n",
        "\n",
        "  if 'monitor' in sys.argv:\n",
        "    filename = os.path.basename(__file__).split('.')[0]\n",
        "    monitor_dir = './' + filename + '_' + str(datetime.now())\n",
        "    env = wrappers.Monitor(env, monitor_dir)\n",
        "\n",
        "  N = 1000\n",
        "  totalrewards = np.empty(N)\n",
        "  costs = np.empty(N)\n",
        "  for n in range(N):\n",
        "    totalreward = play_one_mc(env, pmodel, vmodel, gamma)\n",
        "    totalrewards[n] = totalreward\n",
        "    if n % 100 == 0:\n",
        "      print(\"episode:\", n, \"total reward:\", totalreward, \"avg reward (last 100):\", totalrewards[max(0, n-100):(n+1)].mean())\n",
        "\n",
        "  print(\"avg reward for last 100 episodes:\", totalrewards[-100:].mean())\n",
        "  print(\"total steps:\", totalrewards.sum())\n",
        "\n",
        "  plt.plot(totalrewards)\n",
        "  plt.title(\"Rewards\")\n",
        "  plt.show()\n",
        "\n",
        "  plot_running_avg(totalrewards)\n",
        "\n",
        "\n",
        "if __name__ == '__main__':\n",
        "  main()\n"
      ],
      "execution_count": null,
      "outputs": [
        {
          "output_type": "stream",
          "name": "stdout",
          "text": [
            "Testing  (4,)\n",
            "episode: 0 total reward: 12.0 avg reward (last 100): 12.0\n",
            "episode: 100 total reward: 115.0 avg reward (last 100): 37.603960396039604\n",
            "episode: 200 total reward: 199.0 avg reward (last 100): 160.68316831683168\n",
            "episode: 300 total reward: 199.0 avg reward (last 100): 193.40594059405942\n",
            "episode: 400 total reward: 199.0 avg reward (last 100): 197.34653465346534\n",
            "episode: 500 total reward: 199.0 avg reward (last 100): 194.41584158415841\n",
            "episode: 600 total reward: 199.0 avg reward (last 100): 199.0\n",
            "episode: 700 total reward: 199.0 avg reward (last 100): 199.0\n",
            "episode: 800 total reward: 199.0 avg reward (last 100): 199.0\n",
            "episode: 900 total reward: 199.0 avg reward (last 100): 199.0\n",
            "avg reward for last 100 episodes: 198.02\n",
            "total steps: 177620.0\n"
          ]
        },
        {
          "output_type": "display_data",
          "data": {
            "image/png": "[encoded data removed]",
            "text/plain": [
              "<Figure size 432x288 with 1 Axes>"
            ]
          },
          "metadata": {
            "needs_background": "light"
          }
        },
        {
          "output_type": "display_data",
          "data": {
            "image/png": "[encoded data removed]",
            "text/plain": [
              "<Figure size 432x288 with 1 Axes>"
            ]
          },
          "metadata": {
            "needs_background": "light"
          }
        }
      ]
    },
    {
      "cell_type": "markdown",
      "metadata": {
        "id": "u34FTXu0cSGn"
      },
      "source": [
        "##Deep Q Learning"
      ]
    },
    {
      "cell_type": "code",
      "metadata": {
        "colab": {
          "base_uri": "https://localhost:8080/",
          "height": 763
        },
        "id": "T050SrFNCRWF",
        "outputId": "c3d19a85-2070-4084-dafa-770bd8d128ba"
      },
      "source": [
        "# https://deeplearningcourses.com/c/deep-reinforcement-learning-in-python\n",
        "# https://www.udemy.com/deep-reinforcement-learning-in-python\n",
        "from __future__ import print_function, division\n",
        "from builtins import range\n",
        "# Note: you may need to update your version of future\n",
        "# sudo pip install -U future\n",
        "\n",
        "import gym\n",
        "import os\n",
        "import sys\n",
        "import numpy as np\n",
        "import tensorflow as tf\n",
        "import matplotlib.pyplot as plt\n",
        "from gym import wrappers\n",
        "from datetime import datetime\n",
        "\n",
        "\n",
        "# global counter\n",
        "global_iters = 0\n",
        "\n",
        "\n",
        "# a version of HiddenLayer that keeps track of params\n",
        "class HiddenLayer:\n",
        "  def __init__(self, M1, M2, f=tf.nn.tanh, use_bias=True):\n",
        "    self.W = tf.Variable(tf.random_normal(shape=(M1, M2)))\n",
        "    self.params = [self.W]\n",
        "    self.use_bias = use_bias\n",
        "    if use_bias:\n",
        "      self.b = tf.Variable(np.zeros(M2).astype(np.float32))\n",
        "      self.params.append(self.b)\n",
        "    self.f = f\n",
        "\n",
        "  def forward(self, X):\n",
        "    if self.use_bias:\n",
        "      a = tf.matmul(X, self.W) + self.b\n",
        "    else:\n",
        "      a = tf.matmul(X, self.W)\n",
        "    return self.f(a)\n",
        "\n",
        "#2 hidden layers used with 200 hidden units each \n",
        "\n",
        "class DQN:\n",
        "  def __init__(self, D, K, hidden_layer_sizes, gamma, max_experiences=10000, min_experiences=100, batch_sz=32):\n",
        "    self.K = K\n",
        "\n",
        "    # create the graph\n",
        "    self.layers = []\n",
        "    M1 = D\n",
        "    for M2 in hidden_layer_sizes:\n",
        "      layer = HiddenLayer(M1, M2)\n",
        "      self.layers.append(layer)\n",
        "      M1 = M2\n",
        "\n",
        "    # final layer\n",
        "    layer = HiddenLayer(M1, K, lambda x: x)\n",
        "    self.layers.append(layer)\n",
        "    self.temp = 1\n",
        "    # collect params for copy\n",
        "    self.params = []\n",
        "    for layer in self.layers:\n",
        "      self.params += layer.params\n",
        "\n",
        "    # inputs and targets\n",
        "    self.X = tf.placeholder(tf.float32, shape=(None, D), name='X')\n",
        "    self.G = tf.placeholder(tf.float32, shape=(None,), name='G')\n",
        "    self.actions = tf.placeholder(tf.int32, shape=(None,), name='actions')\n",
        "\n",
        "    # calculate output and cost\n",
        "    Z = self.X\n",
        "    for layer in self.layers:\n",
        "      Z = layer.forward(Z)\n",
        "    Y_hat = Z\n",
        "    self.predict_op = Y_hat\n",
        "\n",
        "    selected_action_values = tf.reduce_sum(\n",
        "      Y_hat * tf.one_hot(self.actions, K),\n",
        "      reduction_indices=[1]\n",
        "    )\n",
        "    #print(\"G size \")\n",
        "    #self.cost = tf.reduce_sum(tf.square(self.G - selected_action_values))\n",
        "    cost = tf.reduce_sum(tf.square(self.G - selected_action_values))\n",
        "   # self.optimizer = tf.train.AdamOptimizer(1e-2)\n",
        "    self.train_op = tf.train.AdamOptimizer(1e-2).minimize(cost)\n",
        "    #self.train_op = tf.train.AdagradOptimizer(1e-2).minimize(cost)\n",
        "    # self.train_op = tf.train.MomentumOptimizer(1e-3, momentum=0.9).minimize(cost)\n",
        "    # self.train_op = tf.train.GradientDescentOptimizer(1e-4).minimize(cost)\n",
        "\n",
        "    # create replay memory\n",
        "    self.experience = {'s': [], 'a': [], 'r': [], 's2': [], 'done': []}\n",
        "    self.max_experiences = max_experiences\n",
        "    self.min_experiences = min_experiences\n",
        "    self.batch_sz = batch_sz\n",
        "    self.gamma = gamma\n",
        "\n",
        "  def set_session(self, session):\n",
        "    self.session = session\n",
        "\n",
        "  def copy_from(self, other):\n",
        "    # collect all the ops\n",
        "    ops = []\n",
        "    my_params = self.params\n",
        "    other_params = other.params\n",
        "    for p, q in zip(my_params, other_params):\n",
        "      actual = self.session.run(q)\n",
        "      op = p.assign(actual)\n",
        "      ops.append(op)\n",
        "    # now run them all\n",
        "    self.session.run(ops)\n",
        "\n",
        "  def predict(self, X):\n",
        "    X = np.atleast_2d(X)\n",
        "    return self.session.run(self.predict_op, feed_dict={self.X: X})\n",
        "\n",
        "  def train(self, target_network):\n",
        "    # sample a random batch from buffer, do an iteration of GD\n",
        "    if len(self.experience['s']) < self.min_experiences:\n",
        "      # don't do anything if we don't have enough experience\n",
        "      return\n",
        "\n",
        "    # randomly select a batch\n",
        "    idx = np.random.choice(len(self.experience['s']), size=self.batch_sz, replace=False)\n",
        "    # print(\"idx:\", idx)\n",
        "    states = [self.experience['s'][i] for i in idx]\n",
        "    actions = [self.experience['a'][i] for i in idx]\n",
        "    rewards = [self.experience['r'][i] for i in idx]\n",
        "    next_states = [self.experience['s2'][i] for i in idx]\n",
        "    dones = [self.experience['done'][i] for i in idx]\n",
        "    next_Q = np.max(target_network.predict(next_states), axis=1)\n",
        "    targets = [r + self.gamma*next_q if not done else r for r, next_q, done in zip(rewards, next_Q, dones)]\n",
        "\n",
        "    # call optimizer\n",
        "    self.session.run(\n",
        "      self.train_op,\n",
        "      feed_dict={\n",
        "        self.X: states,\n",
        "        self.G: targets,\n",
        "        self.actions: actions\n",
        "      }\n",
        "    )\n",
        "    # gradients,variables = zip(*self.optimizer.compute_gradients(self.cost)) \n",
        "    # gradients = self.session.run([grad for grad in gradients if grad is not None], feed_dict={self.X: states, self.G: targets, self.actions: actions,})\n",
        "    # apply = self.optimizer.apply_gradients(zip(gradients,variables))\n",
        "\n",
        "    # if(self.temp is 1):\n",
        "    #   self.session.run(tf.initialize_all_variables())\n",
        "    #   self.temp = 2\n",
        "    # self.session.run(apply)\n",
        "\n",
        "\n",
        "  def add_experience(self, s, a, r, s2, done):\n",
        "    if len(self.experience['s']) >= self.max_experiences:\n",
        "      self.experience['s'].pop(0)\n",
        "      self.experience['a'].pop(0)\n",
        "      self.experience['r'].pop(0)\n",
        "      self.experience['s2'].pop(0)\n",
        "      self.experience['done'].pop(0)\n",
        "    self.experience['s'].append(s)\n",
        "    self.experience['a'].append(a)\n",
        "    self.experience['r'].append(r)\n",
        "    self.experience['s2'].append(s2)\n",
        "    self.experience['done'].append(done)\n",
        "\n",
        "  def sample_action(self, x, eps):\n",
        "    if np.random.random() < eps:\n",
        "      return np.random.choice(self.K)\n",
        "    else:\n",
        "      X = np.atleast_2d(x)\n",
        "      return np.argmax(self.predict(X)[0])\n",
        "\n",
        "\n",
        "def play_one(env, model, tmodel, eps, gamma, copy_period):\n",
        "  global global_iters\n",
        "  observation = env.reset()\n",
        "  done = False\n",
        "  totalreward = 0\n",
        "  iters = 0\n",
        "  while not done and iters < 2000:\n",
        "    # if we reach 2000, just quit, don't want this going forever\n",
        "    # the 200 limit seems a bit early\n",
        "    action = model.sample_action(observation, eps)\n",
        "    prev_observation = observation\n",
        "    observation, reward, done, info = env.step(action)\n",
        "\n",
        "    totalreward += reward\n",
        "    if done:\n",
        "      reward = -200\n",
        "\n",
        "    # update the model\n",
        "    model.add_experience(prev_observation, action, reward, observation, done)\n",
        "    model.train(tmodel)\n",
        "    #print(iters)\n",
        "    iters += 1\n",
        "    global_iters += 1\n",
        "\n",
        "    if global_iters % copy_period == 0:\n",
        "      tmodel.copy_from(model)\n",
        "  #print(iters)\n",
        "  return totalreward\n",
        "\n",
        "\n",
        "def main():\n",
        "  env = gym.make('CartPole-v0')\n",
        "  gamma = 0.99\n",
        "  copy_period = 50\n",
        "\n",
        "  D = len(env.observation_space.sample())\n",
        "  K = env.action_space.n\n",
        "  sizes = [200,200]\n",
        "  model = DQN(D, K, sizes, gamma)\n",
        "  tmodel = DQN(D, K, sizes, gamma)\n",
        "  init = tf.global_variables_initializer()\n",
        "  session = tf.InteractiveSession()\n",
        "  session.run(init)\n",
        "  model.set_session(session)\n",
        "  tmodel.set_session(session)\n",
        "\n",
        "\n",
        "  if 'monitor' in sys.argv:\n",
        "    filename = os.path.basename(__file__).split('.')[0]\n",
        "    monitor_dir = './' + filename + '_' + str(datetime.now())\n",
        "    env = wrappers.Monitor(env, monitor_dir)\n",
        "\n",
        "\n",
        "  N = 1000\n",
        "  totalrewards = np.empty(N)\n",
        "  costs = np.empty(N)\n",
        "  for n in range(N):\n",
        "    eps = 1.0/np.sqrt(n+1)\n",
        "    totalreward = play_one(env, model, tmodel, eps, gamma, copy_period)\n",
        "    totalrewards[n] = totalreward\n",
        "    if n % 100 == 0:\n",
        "      print(\"episode:\", n, \"total reward:\", totalreward, \"eps:\", eps, \"avg reward (last 100):\", totalrewards[max(0, n-100):(n+1)].mean())\n",
        "\n",
        "  print(\"avg reward for last 100 episodes:\", totalrewards[-100:].mean())\n",
        "  print(\"total steps:\", totalrewards.sum())\n",
        "\n",
        "  plt.plot(totalrewards)\n",
        "  plt.title(\"Rewards\")\n",
        "  plt.show()\n",
        "\n",
        "  plot_running_avg(totalrewards)\n",
        "\n",
        "\n",
        "if __name__ == '__main__':\n",
        "  main()\n",
        "\n"
      ],
      "execution_count": null,
      "outputs": [
        {
          "output_type": "stream",
          "name": "stdout",
          "text": [
            "episode: 0 total reward: 27.0 eps: 1.0 avg reward (last 100): 27.0\n",
            "episode: 100 total reward: 87.0 eps: 0.09950371902099892 avg reward (last 100): 121.35643564356435\n",
            "episode: 200 total reward: 200.0 eps: 0.07053456158585983 avg reward (last 100): 169.5148514851485\n",
            "episode: 300 total reward: 190.0 eps: 0.0576390417704235 avg reward (last 100): 162.35643564356437\n",
            "episode: 400 total reward: 200.0 eps: 0.04993761694389223 avg reward (last 100): 156.7029702970297\n",
            "episode: 500 total reward: 200.0 eps: 0.04467670516087703 avg reward (last 100): 152.2970297029703\n",
            "episode: 600 total reward: 50.0 eps: 0.04079085082240021 avg reward (last 100): 146.47524752475246\n",
            "episode: 700 total reward: 200.0 eps: 0.0377694787300249 avg reward (last 100): 138.8118811881188\n",
            "episode: 800 total reward: 19.0 eps: 0.03533326266687867 avg reward (last 100): 121.25742574257426\n",
            "episode: 900 total reward: 39.0 eps: 0.03331483023263848 avg reward (last 100): 125.61386138613861\n",
            "avg reward for last 100 episodes: 104.43\n",
            "total steps: 139991.0\n"
          ]
        },
        {
          "output_type": "display_data",
          "data": {
            "image/png": "[encoded data removed]",
            "text/plain": [
              "<Figure size 432x288 with 1 Axes>"
            ]
          },
          "metadata": {
            "needs_background": "light"
          }
        },
        {
          "output_type": "display_data",
          "data": {
            "image/png": "[encoded data removed]",
            "text/plain": [
              "<Figure size 432x288 with 1 Axes>"
            ]
          },
          "metadata": {
            "needs_background": "light"
          }
        }
      ]
    },
    {
      "cell_type": "code",
      "metadata": {
        "id": "pFsTi5b7oJVe"
      },
      "source": [],
      "execution_count": null,
      "outputs": []
    },
    {
      "cell_type": "code",
      "metadata": {
        "id": "UoKXU1neri93"
      },
      "source": [],
      "execution_count": null,
      "outputs": []
    }
  ]
}